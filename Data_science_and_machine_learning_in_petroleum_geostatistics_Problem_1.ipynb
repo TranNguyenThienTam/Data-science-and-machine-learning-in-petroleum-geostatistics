{
  "nbformat": 4,
  "nbformat_minor": 0,
  "metadata": {
    "colab": {
      "provenance": [],
      "authorship_tag": "ABX9TyN11KjPdmXEpU8SUCPbpKdw",
      "include_colab_link": true
    },
    "kernelspec": {
      "name": "python3",
      "display_name": "Python 3"
    },
    "language_info": {
      "name": "python"
    }
  },
  "cells": [
    {
      "cell_type": "markdown",
      "metadata": {
        "id": "view-in-github",
        "colab_type": "text"
      },
      "source": [
        "<a href=\"https://colab.research.google.com/github/TranNguyenThienTam/Data-science-and-machine-learning-in-petroleum-geostatistics/blob/main/Data_science_and_machine_learning_in_petroleum_geostatistics_Problem_1.ipynb\" target=\"_parent\"><img src=\"https://colab.research.google.com/assets/colab-badge.svg\" alt=\"Open In Colab\"/></a>"
      ]
    },
    {
      "cell_type": "markdown",
      "source": [
        "**Problem 1: Analyze porosity values using a frequency-distribution analysis**\n",
        "\n",
        "The following porosity samples are measured in a wellbore: 0.141, 0.124, 0.152, 0.156, 0.113, 0.167, 0.194, 0.142, 0.133, 0.149, 0.106, 0.137, 0.147, 0.159, 0.174, 0.129, 0.153, 0.173, 0.189, 0.16, 0.193, 0.156, 0.149, 0.135, 0.145, 0.171, 0.101, 0.151, 0.176, 0.191, 0.121, 0.148, 0.153, 0.171, 0.183, 0.108, 0.123, 0.169, 0.185, 0.153, 0.117, 0.127, 0.145, 0.141, 0.165, 0.14, 0.143, 0.178, 0.179, 0.157. \n",
        "\n",
        "Analyze these porosity, ϕ, values using a frequency-distribution analysis.\n"
      ],
      "metadata": {
        "id": "YmDqmtwAnICS"
      }
    },
    {
      "cell_type": "code",
      "execution_count": null,
      "metadata": {
        "id": "LXJU-yOmJO_0"
      },
      "outputs": [],
      "source": [
        "# Import libraries\n",
        "\n",
        "import pandas as pd\n",
        "import numpy as np\n",
        "import matplotlib.pyplot as plt"
      ]
    },
    {
      "cell_type": "code",
      "source": [
        "# Import data\n",
        "\n",
        "Data = {'Phi': [0.141, 0.124, 0.152, 0.156, 0.113, 0.167, 0.194, 0.142, 0.133, 0.149, 0.106, 0.137, 0.147, 0.159, 0.174, 0.129, 0.153, 0.173, 0.189, 0.16, 0.193, 0.156, 0.149, 0.135, 0.145, 0.171, 0.101, 0.151, 0.176, 0.191, 0.121, 0.148, 0.153, 0.171, 0.183, 0.108, 0.123, 0.169, 0.185, 0.153, 0.117, 0.127, 0.145, 0.141, 0.165, 0.14, 0.143, 0.178, 0.179, 0.157]}\n",
        "df = pd.DataFrame(Data)\n",
        "Phi = df.Phi\n",
        "print(Phi)"
      ],
      "metadata": {
        "colab": {
          "base_uri": "https://localhost:8080/"
        },
        "id": "X7796b64F84R",
        "outputId": "61526611-9c83-40c8-e91f-d9d26e3ddda9"
      },
      "execution_count": null,
      "outputs": [
        {
          "output_type": "stream",
          "name": "stdout",
          "text": [
            "0     0.141\n",
            "1     0.124\n",
            "2     0.152\n",
            "3     0.156\n",
            "4     0.113\n",
            "5     0.167\n",
            "6     0.194\n",
            "7     0.142\n",
            "8     0.133\n",
            "9     0.149\n",
            "10    0.106\n",
            "11    0.137\n",
            "12    0.147\n",
            "13    0.159\n",
            "14    0.174\n",
            "15    0.129\n",
            "16    0.153\n",
            "17    0.173\n",
            "18    0.189\n",
            "19    0.160\n",
            "20    0.193\n",
            "21    0.156\n",
            "22    0.149\n",
            "23    0.135\n",
            "24    0.145\n",
            "25    0.171\n",
            "26    0.101\n",
            "27    0.151\n",
            "28    0.176\n",
            "29    0.191\n",
            "30    0.121\n",
            "31    0.148\n",
            "32    0.153\n",
            "33    0.171\n",
            "34    0.183\n",
            "35    0.108\n",
            "36    0.123\n",
            "37    0.169\n",
            "38    0.185\n",
            "39    0.153\n",
            "40    0.117\n",
            "41    0.127\n",
            "42    0.145\n",
            "43    0.141\n",
            "44    0.165\n",
            "45    0.140\n",
            "46    0.143\n",
            "47    0.178\n",
            "48    0.179\n",
            "49    0.157\n",
            "Name: Phi, dtype: float64\n"
          ]
        }
      ]
    },
    {
      "cell_type": "code",
      "source": [
        "# Count the number of entries in the \"Phi\" column\n",
        "\n",
        "n = df['Phi'].count()\n",
        "print(n)"
      ],
      "metadata": {
        "colab": {
          "base_uri": "https://localhost:8080/"
        },
        "id": "ZH3H9zJuHc6L",
        "outputId": "2a89cb40-816f-4c86-848b-c9e280ec2015"
      },
      "execution_count": null,
      "outputs": [
        {
          "output_type": "stream",
          "name": "stdout",
          "text": [
            "50\n"
          ]
        }
      ]
    },
    {
      "cell_type": "code",
      "source": [
        "# The number of measurements falling within class 1, 0.10 < phi ≤ 0.12\n",
        "\n",
        "fi1 = sum((df.Phi > 0.1) & (df.Phi <= 0.12))\n",
        "print(fi1)"
      ],
      "metadata": {
        "colab": {
          "base_uri": "https://localhost:8080/"
        },
        "id": "hDAklhd7KnAa",
        "outputId": "4e4ec054-ba73-43cc-8caf-ddf3bf5f4411"
      },
      "execution_count": null,
      "outputs": [
        {
          "output_type": "stream",
          "name": "stdout",
          "text": [
            "5\n"
          ]
        }
      ]
    },
    {
      "cell_type": "code",
      "source": [
        "# The number of measurements falling within class 2, 0.12 < phi ≤ 0.14\n",
        "\n",
        "fi2 = sum((df.Phi > 0.12) & (df.Phi <= 0.14))\n",
        "print(fi2)"
      ],
      "metadata": {
        "colab": {
          "base_uri": "https://localhost:8080/"
        },
        "id": "HHaNqCE8U1DM",
        "outputId": "5892f582-4d1c-40d0-a5e2-fbafa5a25dee"
      },
      "execution_count": null,
      "outputs": [
        {
          "output_type": "stream",
          "name": "stdout",
          "text": [
            "9\n"
          ]
        }
      ]
    },
    {
      "cell_type": "code",
      "source": [
        "# The number of measurements falling within class 3, 0.14 < phi ≤ 0.16\n",
        "\n",
        "fi3 = sum((df.Phi > 0.14) & (df.Phi <= 0.16))\n",
        "print(fi3)"
      ],
      "metadata": {
        "colab": {
          "base_uri": "https://localhost:8080/"
        },
        "id": "yBUPJZ2-U7Lg",
        "outputId": "a99c2153-9c3d-4fa0-dd36-156d439fcffa"
      },
      "execution_count": null,
      "outputs": [
        {
          "output_type": "stream",
          "name": "stdout",
          "text": [
            "20\n"
          ]
        }
      ]
    },
    {
      "cell_type": "code",
      "source": [
        "# The number of measurements falling within class 4, 0.16 < phi ≤ 0.18\n",
        "\n",
        "fi4 = sum((df.Phi > 0.16) & (df.Phi <= 0.18))\n",
        "print(fi4)"
      ],
      "metadata": {
        "colab": {
          "base_uri": "https://localhost:8080/"
        },
        "id": "Zz2kWymPVAwf",
        "outputId": "bc735b4b-349d-4289-d014-734c87d08bdb"
      },
      "execution_count": null,
      "outputs": [
        {
          "output_type": "stream",
          "name": "stdout",
          "text": [
            "10\n"
          ]
        }
      ]
    },
    {
      "cell_type": "code",
      "source": [
        "# The number of measurements falling within class 5, 0.18 < phi ≤ 0.20\n",
        "\n",
        "fi5 = sum((df.Phi > 0.18) & (df.Phi <= 0.20))\n",
        "print(fi5)"
      ],
      "metadata": {
        "colab": {
          "base_uri": "https://localhost:8080/"
        },
        "id": "fuCJXl5iVG0h",
        "outputId": "7e946c31-4c08-465f-8212-7fffb7cdb04f"
      },
      "execution_count": null,
      "outputs": [
        {
          "output_type": "stream",
          "name": "stdout",
          "text": [
            "6\n"
          ]
        }
      ]
    },
    {
      "cell_type": "code",
      "source": [
        "# Relative frequency of class 1\n",
        "\n",
        "fRi1 = fi1/n\n",
        "print(fRi1)"
      ],
      "metadata": {
        "colab": {
          "base_uri": "https://localhost:8080/"
        },
        "id": "NE3UWzMGXl6i",
        "outputId": "fe844806-71d8-400c-feb1-ca125db53b7d"
      },
      "execution_count": null,
      "outputs": [
        {
          "output_type": "stream",
          "name": "stdout",
          "text": [
            "0.1\n"
          ]
        }
      ]
    },
    {
      "cell_type": "code",
      "source": [
        "# Relative frequency of class 2\n",
        "\n",
        "fRi2 = fi2/n\n",
        "print(fRi2)"
      ],
      "metadata": {
        "colab": {
          "base_uri": "https://localhost:8080/"
        },
        "id": "FIdmDKVcaKXv",
        "outputId": "f03bddfe-8dd6-462b-8622-63debd848916"
      },
      "execution_count": null,
      "outputs": [
        {
          "output_type": "stream",
          "name": "stdout",
          "text": [
            "0.18\n"
          ]
        }
      ]
    },
    {
      "cell_type": "code",
      "source": [
        "# Relative frequency of class 3\n",
        "\n",
        "fRi3 = fi3/n\n",
        "print(fRi3)"
      ],
      "metadata": {
        "colab": {
          "base_uri": "https://localhost:8080/"
        },
        "id": "bhbHD1_VaMxu",
        "outputId": "d8d98dc4-10cf-4599-ec8a-922630739937"
      },
      "execution_count": null,
      "outputs": [
        {
          "output_type": "stream",
          "name": "stdout",
          "text": [
            "0.4\n"
          ]
        }
      ]
    },
    {
      "cell_type": "code",
      "source": [
        "# Relative frequency of class 4\n",
        "\n",
        "fRi4 = fi4/n\n",
        "print(fRi4)"
      ],
      "metadata": {
        "colab": {
          "base_uri": "https://localhost:8080/"
        },
        "id": "NEcHB6aGaX_2",
        "outputId": "b2e2bcd9-18a3-4749-c3ca-f9d58233b0c4"
      },
      "execution_count": null,
      "outputs": [
        {
          "output_type": "stream",
          "name": "stdout",
          "text": [
            "0.2\n"
          ]
        }
      ]
    },
    {
      "cell_type": "code",
      "source": [
        "# Relative frequency of class 5\n",
        "\n",
        "fRi5 = fi5/n\n",
        "print(fRi5)"
      ],
      "metadata": {
        "colab": {
          "base_uri": "https://localhost:8080/"
        },
        "id": "djH2cqXNadkn",
        "outputId": "40f4d243-b50e-4137-80f9-74160d958c23"
      },
      "execution_count": null,
      "outputs": [
        {
          "output_type": "stream",
          "name": "stdout",
          "text": [
            "0.12\n"
          ]
        }
      ]
    },
    {
      "cell_type": "code",
      "source": [
        "# Calculate the cumulative relative class frequency\n",
        "\n",
        "fRi = {'fRi':[fRi1, fRi2, fRi3, fRi4, fRi5]}\n",
        "df = pd.DataFrame(fRi)\n",
        "df['cumulative_sum'] = df['fRi'].cumsum()\n",
        "cumulative_sum = df.cumulative_sum\n",
        "print(cumulative_sum)"
      ],
      "metadata": {
        "colab": {
          "base_uri": "https://localhost:8080/"
        },
        "id": "OPqjtAPAdAGG",
        "outputId": "a613dcd1-788d-4b49-b0ab-d381896266e8"
      },
      "execution_count": null,
      "outputs": [
        {
          "output_type": "stream",
          "name": "stdout",
          "text": [
            "0    0.10\n",
            "1    0.28\n",
            "2    0.68\n",
            "3    0.88\n",
            "4    1.00\n",
            "Name: cumulative_sum, dtype: float64\n"
          ]
        }
      ]
    },
    {
      "cell_type": "code",
      "source": [
        "# Plot the relative class frequency\n",
        "\n",
        "class_intervals = ['Class 1', 'Class 2', 'Class 3', 'Class 4', 'Class 5']\n",
        "relative_frequencies = [fRi1, fRi2, fRi3, fRi4, fRi5]\n",
        "plt.bar(class_intervals, relative_frequencies)\n",
        "\n",
        "# Set the title and axis labels\n",
        "plt.title('Relative Class Frequency')\n",
        "plt.xlabel('Class Labels')\n",
        "plt.ylabel('Relative Frequency')\n",
        "\n",
        "# Display the plot\n",
        "plt.show()"
      ],
      "metadata": {
        "colab": {
          "base_uri": "https://localhost:8080/",
          "height": 472
        },
        "id": "Pj3tec_IeG5m",
        "outputId": "3541e59c-483d-45cd-916b-3fddb2d2e115"
      },
      "execution_count": null,
      "outputs": [
        {
          "output_type": "display_data",
          "data": {
            "text/plain": [
              "<Figure size 640x480 with 1 Axes>"
            ],
            "image/png": "[encoded data removed]"
          },
          "metadata": {}
        }
      ]
    },
    {
      "cell_type": "code",
      "source": [
        "# Plot the cumulative relative class frequency\n",
        "\n",
        "plt.bar(class_intervals, cumulative_sum)\n",
        "\n",
        "# Set the title and axis labels\n",
        "plt.title('Cumulative Relative Class Frequency')\n",
        "plt.xlabel('Class Labels')\n",
        "plt.ylabel('Cumulative Relative Frequency')\n",
        "\n",
        "# Display the plot\n",
        "plt.show()"
      ],
      "metadata": {
        "colab": {
          "base_uri": "https://localhost:8080/",
          "height": 472
        },
        "id": "gzk2Y0q_hZcP",
        "outputId": "0f1488c6-ec79-43f9-83be-8e0ad7a7be01"
      },
      "execution_count": null,
      "outputs": [
        {
          "output_type": "display_data",
          "data": {
            "text/plain": [
              "<Figure size 640x480 with 1 Axes>"
            ],
            "image/png": "[encoded data removed]"
          },
          "metadata": {}
        }
      ]
    },
    {
      "cell_type": "code",
      "source": [
        "# Plot a histogram of the data with 5 bins\n",
        "plt.hist(Phi, bins=5)\n",
        "\n",
        "# Set the x-axis label\n",
        "plt.xlabel('Phi')\n",
        "\n",
        "# Set the y-axis label\n",
        "plt.ylabel('Frequency')\n",
        "\n",
        "# Set the title of the plot\n",
        "plt.title('Histogram')\n",
        "\n",
        "# Show the plot\n",
        "plt.show()"
      ],
      "metadata": {
        "colab": {
          "base_uri": "https://localhost:8080/",
          "height": 472
        },
        "id": "-MBYY5FAm3DF",
        "outputId": "9c74e72a-04bb-4caf-a963-7f6c0b22167c"
      },
      "execution_count": null,
      "outputs": [
        {
          "output_type": "display_data",
          "data": {
            "text/plain": [
              "<Figure size 640x480 with 1 Axes>"
            ],
            "image/png": "[encoded data removed]"
          },
          "metadata": {}
        }
      ]
    }
  ]
}